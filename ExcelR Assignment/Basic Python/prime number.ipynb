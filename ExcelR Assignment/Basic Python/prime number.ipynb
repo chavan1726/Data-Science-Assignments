{
 "cells": [
  {
   "cell_type": "markdown",
   "id": "905a4c99-f9db-4170-b28a-25d2bc08c596",
   "metadata": {},
   "source": [
    "**Prime Number**"
   ]
  },
  {
   "cell_type": "code",
   "execution_count": null,
   "id": "4bf23bdb-9299-4b48-9d4a-b6db823fd5e6",
   "metadata": {},
   "outputs": [],
   "source": [
    "#A prime number is a natural number greater than 1 that has no positive divisors other than 1 and itself.\n"
   ]
  },
  {
   "cell_type": "code",
   "execution_count": 48,
   "id": "68aa92c4-e5a2-4ba8-a3f3-9cf5ed86da7e",
   "metadata": {},
   "outputs": [],
   "source": [
    "def is_prime(n,i=2):\n",
    "    if n<=2:\n",
    "        return n==2\n",
    "        if n%i==0:\n",
    "            return False\n",
    "            if i*i>n:\n",
    "                return True\n",
    "        return is_prime(n,i+1)\n",
    "        num=17\n",
    "        if is_prime(num):\n",
    "            print(f\"{num} is a prime number:\")\n",
    "        else:\n",
    "            print(f\"{num} is not prime number\")"
   ]
  },
  {
   "cell_type": "code",
   "execution_count": 47,
   "id": "fb522ac0-69ac-4230-b085-0b303a8ac73a",
   "metadata": {},
   "outputs": [
    {
     "name": "stdin",
     "output_type": "stream",
     "text": [
      "Enter a number:  17\n"
     ]
    },
    {
     "name": "stdout",
     "output_type": "stream",
     "text": [
      "17 is a prime number.\n"
     ]
    }
   ],
   "source": [
    "def is_prime(n):\n",
    "    if n <= 1:\n",
    "        return False\n",
    "    if n <= 3:\n",
    "        return True\n",
    "    if n % 2 == 0 or n % 3 == 0:\n",
    "        return False\n",
    "    i = 5\n",
    "    while i * i <= n:\n",
    "        if n % i == 0 or n % (i + 2) == 0:\n",
    "            return False\n",
    "        i += 6\n",
    "    return True\n",
    "\n",
    "# Main function\n",
    "def main():\n",
    "    number = int(input(\"Enter a number: \"))\n",
    "    if is_prime(number):\n",
    "        print(f\"{number} is a prime number.\")\n",
    "    else:\n",
    "        print(f\"{number} is not a prime number.\")\n",
    "\n",
    "if __name__ == \"__main__\":\n",
    "    main()\n"
   ]
  },
  {
   "cell_type": "code",
   "execution_count": null,
   "id": "579da28a-c96f-4511-abfa-366b17f28540",
   "metadata": {},
   "outputs": [],
   "source": []
  }
 ],
 "metadata": {
  "kernelspec": {
   "display_name": "Python 3 (ipykernel)",
   "language": "python",
   "name": "python3"
  },
  "language_info": {
   "codemirror_mode": {
    "name": "ipython",
    "version": 3
   },
   "file_extension": ".py",
   "mimetype": "text/x-python",
   "name": "python",
   "nbconvert_exporter": "python",
   "pygments_lexer": "ipython3",
   "version": "3.11.7"
  }
 },
 "nbformat": 4,
 "nbformat_minor": 5
}
