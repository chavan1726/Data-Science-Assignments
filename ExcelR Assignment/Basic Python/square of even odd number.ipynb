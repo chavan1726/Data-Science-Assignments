{
 "cells": [
  {
   "cell_type": "markdown",
   "id": "5618da1f-5dc2-48c1-9adb-724b70b95916",
   "metadata": {},
   "source": [
    "**Squares of Even/Odd Numbers**"
   ]
  },
  {
   "cell_type": "code",
   "execution_count": 11,
   "id": "ecf1d63a-c805-42a8-8452-a63ecfdfbdea",
   "metadata": {},
   "outputs": [],
   "source": [
    "import numpy as np"
   ]
  },
  {
   "cell_type": "code",
   "execution_count": 15,
   "id": "6bf38c72-413b-4a10-8752-2550cab27b0e",
   "metadata": {},
   "outputs": [
    {
     "name": "stdin",
     "output_type": "stream",
     "text": [
      "Enter a number:  5\n"
     ]
    },
    {
     "name": "stdout",
     "output_type": "stream",
     "text": [
      "5 is odd, and its square is 25\n"
     ]
    }
   ],
   "source": [
    "def square_of_even_or_odd(number):\n",
    "    \n",
    "    if number % 2 == 0:\n",
    "        return f\"{number} is even, and its square is {number ** 2}\"\n",
    "        \n",
    "    else:\n",
    "        return f\"{number} is odd, and its square is {number ** 2}\"\n",
    "        \n",
    "number = int(input(\"Enter a number: \"))\n",
    "\n",
    "\n",
    "print(square_of_even_or_odd(number))"
   ]
  },
  {
   "cell_type": "code",
   "execution_count": null,
   "id": "4d24b8fc-194b-4f4b-93f6-0044893cd602",
   "metadata": {},
   "outputs": [],
   "source": []
  }
 ],
 "metadata": {
  "kernelspec": {
   "display_name": "Python 3 (ipykernel)",
   "language": "python",
   "name": "python3"
  },
  "language_info": {
   "codemirror_mode": {
    "name": "ipython",
    "version": 3
   },
   "file_extension": ".py",
   "mimetype": "text/x-python",
   "name": "python",
   "nbconvert_exporter": "python",
   "pygments_lexer": "ipython3",
   "version": "3.11.7"
  }
 },
 "nbformat": 4,
 "nbformat_minor": 5
}
