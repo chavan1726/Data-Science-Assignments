{
 "cells": [
  {
   "cell_type": "code",
   "execution_count": 2,
   "id": "eaeca5fc-8e10-407d-9b35-8083fb6832ed",
   "metadata": {},
   "outputs": [],
   "source": [
    "import pandas as pd\n",
    "import numpy as np\n",
    "import string as str"
   ]
  },
  {
   "cell_type": "code",
   "execution_count": 9,
   "id": "616574d1-bc63-428f-b27e-45da086b8939",
   "metadata": {},
   "outputs": [
    {
     "data": {
      "text/plain": [
       "1"
      ]
     },
     "execution_count": 9,
     "metadata": {},
     "output_type": "execute_result"
    }
   ],
   "source": [
    "\n",
    "def word_count(str):\n",
    "    counts = dict()\n",
    "    \n",
    "    words= str.split()\n",
    "    for word in words:\n",
    "        if word in counts:\n",
    "\n",
    "            counts[word]+=1\n",
    "        else:\n",
    "\n",
    "            counts[word]=1\n",
    "            return counts\n",
    "            print(word_count())\n",
    "\n",
    "word=\"This\"\n",
    "str=\"This is the computer science batch and this batch performed is the best.\"\n",
    "\n",
    "count= str.count(word)\n",
    "count\n",
    "\n",
    "\n"
   ]
  },
  {
   "cell_type": "code",
   "execution_count": null,
   "id": "deea768e-5eb5-40c1-8b65-b1f286d74209",
   "metadata": {},
   "outputs": [],
   "source": []
  }
 ],
 "metadata": {
  "kernelspec": {
   "display_name": "Python 3 (ipykernel)",
   "language": "python",
   "name": "python3"
  },
  "language_info": {
   "codemirror_mode": {
    "name": "ipython",
    "version": 3
   },
   "file_extension": ".py",
   "mimetype": "text/x-python",
   "name": "python",
   "nbconvert_exporter": "python",
   "pygments_lexer": "ipython3",
   "version": "3.11.7"
  }
 },
 "nbformat": 4,
 "nbformat_minor": 5
}
