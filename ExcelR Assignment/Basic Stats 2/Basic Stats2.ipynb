{
 "cells": [
  {
   "cell_type": "code",
   "execution_count": 2,
   "id": "3f3197ed-d38a-4cef-b8d9-b74b4c4cb367",
   "metadata": {},
   "outputs": [],
   "source": [
    "#Import Libraries \n",
    "import numpy as np\n",
    "import scipy.stats as stats"
   ]
  },
  {
   "cell_type": "markdown",
   "id": "67c43d7d-bb8b-493f-9063-b608cb60c817",
   "metadata": {},
   "source": [
    "**Build 99% Confidence Interval Using Sample Standard Deviation**"
   ]
  },
  {
   "cell_type": "code",
   "execution_count": 4,
   "id": "36d6d7fa-164c-46bf-a37f-5a17bbccd673",
   "metadata": {},
   "outputs": [],
   "source": [
    "#Given dataset \n",
    "data = [1.13, 1.55, 1.43, 0.92, 1.25, 1.36, 1.32, 0.85, 1.07, 1.48, 1.20, 1.33, 1.18, 1.22, 1.29]"
   ]
  },
  {
   "cell_type": "code",
   "execution_count": 5,
   "id": "7bb5502e-15c1-492d-807f-0153e8169cd0",
   "metadata": {},
   "outputs": [
    {
     "data": {
      "text/plain": [
       "[1.13,\n",
       " 1.55,\n",
       " 1.43,\n",
       " 0.92,\n",
       " 1.25,\n",
       " 1.36,\n",
       " 1.32,\n",
       " 0.85,\n",
       " 1.07,\n",
       " 1.48,\n",
       " 1.2,\n",
       " 1.33,\n",
       " 1.18,\n",
       " 1.22,\n",
       " 1.29]"
      ]
     },
     "execution_count": 5,
     "metadata": {},
     "output_type": "execute_result"
    }
   ],
   "source": [
    "data"
   ]
  },
  {
   "cell_type": "code",
   "execution_count": 6,
   "id": "35ec9584-8fde-44cb-a288-0fa59bfca304",
   "metadata": {},
   "outputs": [],
   "source": [
    "# Sample mean\n",
    "mean = np.mean(data)"
   ]
  },
  {
   "cell_type": "code",
   "execution_count": 7,
   "id": "a570392e-055a-451d-b87c-24df7b8d2477",
   "metadata": {},
   "outputs": [
    {
     "data": {
      "text/plain": [
       "1.2386666666666666"
      ]
     },
     "execution_count": 7,
     "metadata": {},
     "output_type": "execute_result"
    }
   ],
   "source": [
    "mean"
   ]
  },
  {
   "cell_type": "code",
   "execution_count": 8,
   "id": "0d1fdad5-9162-4215-9a4a-f68cd2fda0f5",
   "metadata": {},
   "outputs": [],
   "source": [
    "# Sample standard deviation\n",
    "std_dev = np.std(data, ddof=1)"
   ]
  },
  {
   "cell_type": "code",
   "execution_count": 9,
   "id": "07541e44-9531-402d-a697-eecd55351788",
   "metadata": {},
   "outputs": [
    {
     "data": {
      "text/plain": [
       "0.19316412956959936"
      ]
     },
     "execution_count": 9,
     "metadata": {},
     "output_type": "execute_result"
    }
   ],
   "source": [
    "std_dev"
   ]
  },
  {
   "cell_type": "code",
   "execution_count": 10,
   "id": "2be716f2-41f1-47fd-bce4-c26798402e4f",
   "metadata": {},
   "outputs": [],
   "source": [
    "# Sample size\n",
    "n = len(data)"
   ]
  },
  {
   "cell_type": "code",
   "execution_count": 11,
   "id": "be41b07c-2ea1-4df6-b853-3a896245afa4",
   "metadata": {},
   "outputs": [
    {
     "data": {
      "text/plain": [
       "15"
      ]
     },
     "execution_count": 11,
     "metadata": {},
     "output_type": "execute_result"
    }
   ],
   "source": [
    "n"
   ]
  },
  {
   "cell_type": "code",
   "execution_count": 12,
   "id": "4ab70ee6-0706-4642-a4ea-e944752d8a5c",
   "metadata": {},
   "outputs": [],
   "source": [
    "#Degree of freedom\n",
    "df = n - 1\n"
   ]
  },
  {
   "cell_type": "code",
   "execution_count": 13,
   "id": "5c4c3a2d-4a4d-469c-8a2d-298f77cf3072",
   "metadata": {},
   "outputs": [
    {
     "data": {
      "text/plain": [
       "14"
      ]
     },
     "execution_count": 13,
     "metadata": {},
     "output_type": "execute_result"
    }
   ],
   "source": [
    "df"
   ]
  },
  {
   "cell_type": "code",
   "execution_count": 15,
   "id": "3ccbf34a-0d21-4f16-b5b0-55ece0f75d8d",
   "metadata": {},
   "outputs": [],
   "source": [
    "# t- value \n",
    "confidence_level = 0.99\n",
    "t_value = stats.t.ppf((1 + confidence_level) / 2, df)\n"
   ]
  },
  {
   "cell_type": "code",
   "execution_count": 16,
   "id": "3dbcd4ab-0e52-4b56-8565-95b64bb6a28b",
   "metadata": {},
   "outputs": [
    {
     "data": {
      "text/plain": [
       "2.97684273411266"
      ]
     },
     "execution_count": 16,
     "metadata": {},
     "output_type": "execute_result"
    }
   ],
   "source": [
    "t_value"
   ]
  },
  {
   "cell_type": "code",
   "execution_count": 18,
   "id": "27215630-7824-4c82-a3db-be300a8186df",
   "metadata": {},
   "outputs": [
    {
     "data": {
      "text/plain": [
       "0.1484693282152996"
      ]
     },
     "execution_count": 18,
     "metadata": {},
     "output_type": "execute_result"
    }
   ],
   "source": [
    "margin_of_error = t_value * (std_dev / np.sqrt(n))\n",
    "margin_of_error"
   ]
  },
  {
   "cell_type": "code",
   "execution_count": 21,
   "id": "19d69790-8ab0-4f5a-b12a-b22e74ff378f",
   "metadata": {},
   "outputs": [],
   "source": [
    "#confidence interval\n",
    "lower = mean - margin_of_error\n",
    "upper = mean + margin_of_error"
   ]
  },
  {
   "cell_type": "code",
   "execution_count": 22,
   "id": "1a38d709-c8c1-4df0-800e-0a36b819f737",
   "metadata": {},
   "outputs": [
    {
     "data": {
      "text/plain": [
       "1.090197338451367"
      ]
     },
     "execution_count": 22,
     "metadata": {},
     "output_type": "execute_result"
    }
   ],
   "source": [
    "lower"
   ]
  },
  {
   "cell_type": "code",
   "execution_count": 23,
   "id": "56f20f03-4fbf-44e2-b3f9-80bddc033596",
   "metadata": {},
   "outputs": [
    {
     "data": {
      "text/plain": [
       "1.3871359948819662"
      ]
     },
     "execution_count": 23,
     "metadata": {},
     "output_type": "execute_result"
    }
   ],
   "source": [
    "upper"
   ]
  },
  {
   "cell_type": "code",
   "execution_count": null,
   "id": "d0a1a5de-8b63-4e72-b331-7538d63b38ca",
   "metadata": {},
   "outputs": [],
   "source": [
    "#at the 99% confidence interval using the sample standard deviation is approximately\n",
    "#lower=1.09\n",
    "#upper=1.39\n",
    "#confidence interval[1.08-1.39]"
   ]
  },
  {
   "cell_type": "markdown",
   "id": "08569245-1a51-40f2-9796-1ddc38b3c5d6",
   "metadata": {},
   "source": [
    "**Build 99% Confidence Interval Using Known Population Standard Deviation**"
   ]
  },
  {
   "cell_type": "code",
   "execution_count": 24,
   "id": "a0cd15ae-7d70-4a1e-a3c5-5d4a17b7ca8f",
   "metadata": {},
   "outputs": [
    {
     "data": {
      "text/plain": [
       "[1.13,\n",
       " 1.55,\n",
       " 1.43,\n",
       " 0.92,\n",
       " 1.25,\n",
       " 1.36,\n",
       " 1.32,\n",
       " 0.85,\n",
       " 1.07,\n",
       " 1.48,\n",
       " 1.2,\n",
       " 1.33,\n",
       " 1.18,\n",
       " 1.22,\n",
       " 1.29]"
      ]
     },
     "execution_count": 24,
     "metadata": {},
     "output_type": "execute_result"
    }
   ],
   "source": [
    "data"
   ]
  },
  {
   "cell_type": "code",
   "execution_count": 25,
   "id": "39b6a093-18a0-46e9-8570-c5b8522ef5b8",
   "metadata": {},
   "outputs": [],
   "source": [
    "mean = np.mean(data)"
   ]
  },
  {
   "cell_type": "code",
   "execution_count": 26,
   "id": "71afc77e-9626-489d-aca8-31c91c4e8a4e",
   "metadata": {},
   "outputs": [
    {
     "data": {
      "text/plain": [
       "1.2386666666666666"
      ]
     },
     "execution_count": 26,
     "metadata": {},
     "output_type": "execute_result"
    }
   ],
   "source": [
    "mean"
   ]
  },
  {
   "cell_type": "code",
   "execution_count": 27,
   "id": "2ee8de11-6ab1-41ed-9705-d60df71e2046",
   "metadata": {},
   "outputs": [],
   "source": [
    "std_dev = np.std(data, ddof=1) "
   ]
  },
  {
   "cell_type": "code",
   "execution_count": 28,
   "id": "7b815085-f3ba-417b-af0b-047751e5d279",
   "metadata": {},
   "outputs": [
    {
     "data": {
      "text/plain": [
       "0.19316412956959936"
      ]
     },
     "execution_count": 28,
     "metadata": {},
     "output_type": "execute_result"
    }
   ],
   "source": [
    "std_dev"
   ]
  },
  {
   "cell_type": "code",
   "execution_count": 35,
   "id": "516ffd64-c837-4847-9de5-4093270efab4",
   "metadata": {},
   "outputs": [],
   "source": [
    "n = len(data)"
   ]
  },
  {
   "cell_type": "code",
   "execution_count": 36,
   "id": "f280bd52-a201-4a4d-b8bd-1a0c6bd64afa",
   "metadata": {},
   "outputs": [
    {
     "data": {
      "text/plain": [
       "15"
      ]
     },
     "execution_count": 36,
     "metadata": {},
     "output_type": "execute_result"
    }
   ],
   "source": [
    "n"
   ]
  },
  {
   "cell_type": "code",
   "execution_count": 30,
   "id": "5d2c02bd-ae45-4a64-bc0c-751022ac9146",
   "metadata": {},
   "outputs": [
    {
     "data": {
      "text/plain": [
       "[1.13,\n",
       " 1.55,\n",
       " 1.43,\n",
       " 0.92,\n",
       " 1.25,\n",
       " 1.36,\n",
       " 1.32,\n",
       " 0.85,\n",
       " 1.07,\n",
       " 1.48,\n",
       " 1.2,\n",
       " 1.33,\n",
       " 1.18,\n",
       " 1.22,\n",
       " 1.29]"
      ]
     },
     "execution_count": 30,
     "metadata": {},
     "output_type": "execute_result"
    }
   ],
   "source": [
    "data"
   ]
  },
  {
   "cell_type": "code",
   "execution_count": 31,
   "id": "9acbf5bf-0cf5-4ba5-a794-70a7da5636f8",
   "metadata": {},
   "outputs": [],
   "source": [
    "df = n - 1"
   ]
  },
  {
   "cell_type": "code",
   "execution_count": 32,
   "id": "8806a49d-42bc-41a7-949c-44913b6b3f56",
   "metadata": {},
   "outputs": [
    {
     "data": {
      "text/plain": [
       "14"
      ]
     },
     "execution_count": 32,
     "metadata": {},
     "output_type": "execute_result"
    }
   ],
   "source": [
    "df"
   ]
  },
  {
   "cell_type": "code",
   "execution_count": 33,
   "id": "b59a7de6-970d-425c-b3d0-3026cc2873d9",
   "metadata": {},
   "outputs": [],
   "source": [
    "confidence_level = 0.99\n",
    "t_value = stats.t.ppf((1 + confidence_level) / 2, df)"
   ]
  },
  {
   "cell_type": "code",
   "execution_count": 34,
   "id": "be435511-2bf0-4e0f-a067-f3661b47eea9",
   "metadata": {},
   "outputs": [
    {
     "data": {
      "text/plain": [
       "2.97684273411266"
      ]
     },
     "execution_count": 34,
     "metadata": {},
     "output_type": "execute_result"
    }
   ],
   "source": [
    "t_value"
   ]
  },
  {
   "cell_type": "code",
   "execution_count": 37,
   "id": "021bffc5-eb29-4179-89d9-20b48fcdab9e",
   "metadata": {},
   "outputs": [
    {
     "data": {
      "text/plain": [
       "0.1484693282152996"
      ]
     },
     "execution_count": 37,
     "metadata": {},
     "output_type": "execute_result"
    }
   ],
   "source": [
    "margin_of_error = t_value * (std_dev / np.sqrt(n))\n",
    "margin_of_error"
   ]
  },
  {
   "cell_type": "code",
   "execution_count": 38,
   "id": "9e56730d-3a43-4581-9c00-a01f576037a4",
   "metadata": {},
   "outputs": [],
   "source": [
    "#confidence interval\n",
    "lower = mean - margin_of_error\n",
    "upper = mean + margin_of_error"
   ]
  },
  {
   "cell_type": "code",
   "execution_count": 39,
   "id": "adda9422-c02d-4e95-bda2-2deffecba3ca",
   "metadata": {},
   "outputs": [
    {
     "data": {
      "text/plain": [
       "1.090197338451367"
      ]
     },
     "execution_count": 39,
     "metadata": {},
     "output_type": "execute_result"
    }
   ],
   "source": [
    "lower"
   ]
  },
  {
   "cell_type": "code",
   "execution_count": 40,
   "id": "68a6c8d2-cd0d-41c6-81ee-9e711ba0711c",
   "metadata": {},
   "outputs": [
    {
     "data": {
      "text/plain": [
       "1.3871359948819662"
      ]
     },
     "execution_count": 40,
     "metadata": {},
     "output_type": "execute_result"
    }
   ],
   "source": [
    "upper"
   ]
  },
  {
   "cell_type": "code",
   "execution_count": null,
   "id": "fc8728b2-1a35-4540-b670-a84ea71272db",
   "metadata": {},
   "outputs": [],
   "source": []
  }
 ],
 "metadata": {
  "kernelspec": {
   "display_name": "Python 3 (ipykernel)",
   "language": "python",
   "name": "python3"
  },
  "language_info": {
   "codemirror_mode": {
    "name": "ipython",
    "version": 3
   },
   "file_extension": ".py",
   "mimetype": "text/x-python",
   "name": "python",
   "nbconvert_exporter": "python",
   "pygments_lexer": "ipython3",
   "version": "3.11.7"
  }
 },
 "nbformat": 4,
 "nbformat_minor": 5
}
